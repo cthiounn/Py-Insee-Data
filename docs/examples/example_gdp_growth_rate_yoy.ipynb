{
 "cells": [
  {
   "cell_type": "markdown",
   "id": "67dcb7ec",
   "metadata": {},
   "source": [
    "\n",
    "# GDP growth rate"
   ]
  },
  {
   "cell_type": "code",
   "execution_count": 1,
   "id": "4942a00a",
   "metadata": {},
   "outputs": [],
   "source": [
    "# Subscribe to api.insee.fr and get your credentials!\n",
    "# Save your credentials with init_conn function :\n",
    "# from pynsee.utils.init_conn import init_conn\n",
    "# init_conn(insee_key=\"my_insee_key\", insee_secret=\"my_insee_secret\")\n",
    "\n",
    "# Beware : any change to the keys should be tested after having cleared the cache\n",
    "# Please do : from pynsee.utils import clear_all_cache; clear_all_cache()\""
   ]
  },
  {
   "cell_type": "code",
   "execution_count": 2,
   "id": "07efd299",
   "metadata": {
    "tags": []
   },
   "outputs": [
    {
     "name": "stderr",
     "output_type": "stream",
     "text": [
      "Getting datasets list: 100%|██████████| 197/197 [00:00<00:00, 1287.44it/s]\n"
     ]
    },
    {
     "name": "stdout",
     "output_type": "stream",
     "text": [
      "CNT-2014-PIB-EQB-RF : metadata update triggered because it is not found locally\n"
     ]
    },
    {
     "name": "stderr",
     "output_type": "stream",
     "text": [
      "1/1 - Getting series: 100%|██████████| 1/1 [00:00<00:00,  4.19it/s]\n"
     ]
    },
    {
     "name": "stdout",
     "output_type": "stream",
     "text": [
      "\n",
      "Data has been cached\n",
      "\n"
     ]
    },
    {
     "data": {
      "image/png": "[encoded data removed]",
      "text/plain": [
       "<Figure size 1080x360 with 1 Axes>"
      ]
     },
     "metadata": {
      "needs_background": "light"
     },
     "output_type": "display_data"
    }
   ],
   "source": [
    "from pynsee.macrodata import * \n",
    "\n",
    "import pandas as pd\n",
    "import matplotlib.ticker as ticker\n",
    "%matplotlib inline\n",
    "import matplotlib.pyplot as plt\n",
    "\n",
    "# get macroeconomic datasets list\n",
    "insee_dataset = get_dataset_list()\n",
    "insee_dataset.head()\n",
    "\n",
    "# get series key (idbank), for Gross domestic product balance\n",
    "id = get_series_list(\"CNT-2014-PIB-EQB-RF\")\n",
    "\n",
    "id = id.loc[(id.FREQ == \"T\") &\n",
    "            (id.OPERATION == \"PIB\") &\n",
    "            (id.NATURE == \"TAUX\") &\n",
    "            (id.CORRECTION == \"CVS-CJO\")]\n",
    "\n",
    "data = get_series(id.IDBANK)\n",
    "data = split_title(df = data, n_split=2)\n",
    "\n",
    "# define plot\n",
    "ax = data.plot(kind='bar', x=\"TIME_PERIOD\", stacked=True, y=\"OBS_VALUE\", figsize=(15,5))\n",
    "#add title\n",
    "plt.title(\"French GDP growth rate, quarter-on-quarter, sa-wda\")\n",
    "# customize x-axis tickers\n",
    "ticklabels = ['']*len(data.TIME_PERIOD)\n",
    "ticklabels[::12] = [item for item in data.TIME_PERIOD[::12]]\n",
    "ax.xaxis.set_major_formatter(ticker.FixedFormatter(ticklabels))\n",
    "plt.gcf().autofmt_xdate()\n",
    "#remove legend\n",
    "ax.get_legend().remove()\n",
    "#remove x-axistitle\n",
    "ax.xaxis.label.set_visible(False)\n",
    "plt.show()"
   ]
  }
 ],
 "metadata": {
  "interpreter": {
   "hash": "23131aaa108b18537e4280c528df3b8b642ca51afeb007717137dbdc858717b7"
  },
  "kernelspec": {
   "display_name": "Python 3 (ipykernel)",
   "language": "python",
   "name": "python3"
  },
  "language_info": {
   "codemirror_mode": {
    "name": "ipython",
    "version": 3
   },
   "file_extension": ".py",
   "mimetype": "text/x-python",
   "name": "python",
   "nbconvert_exporter": "python",
   "pygments_lexer": "ipython3",
   "version": "3.9.7"
  }
 },
 "nbformat": 4,
 "nbformat_minor": 5
}
